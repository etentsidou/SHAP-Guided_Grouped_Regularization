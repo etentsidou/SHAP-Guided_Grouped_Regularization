{
 "cells": [
  {
   "cell_type": "markdown",
   "id": "3638d981-b021-4766-b6b8-5b67380e54e5",
   "metadata": {},
   "source": [
    "# Computing Group-Wise L1 Regularization Strengths from SHAP Values  \n",
    "# L1-Grouped-Complete\n"
   ]
  },
  {
   "cell_type": "markdown",
   "id": "4563d88e-850d-4279-9347-8d46a8d36795",
   "metadata": {},
   "source": [
    "Compute group-wise L1 regularization strengths for feature groups based on SHAP values. The process includes SHAP extraction, contribution analysis, normalization and the final computation of the strengths using a 5-step procedure."
   ]
  },
  {
   "cell_type": "code",
   "execution_count": 1,
   "id": "2eb1061c-ff63-4197-9a33-7b459a518682",
   "metadata": {},
   "outputs": [],
   "source": [
    "import numpy as np\n",
    "import pandas as pd"
   ]
  },
  {
   "cell_type": "markdown",
   "id": "52cc0126-4556-41c7-8111-f582beeb277a",
   "metadata": {},
   "source": [
    "## Step 1: Extract SHAP Values and Split into Groups\n",
    "\n",
    "Compute the absolute mean SHAP values and organize them into their respective groups (features, epigenetic codes, etc.)."
   ]
  },
  {
   "cell_type": "code",
   "execution_count": 2,
   "id": "6eeac8f0-3798-45bc-898e-1f16bafce05e",
   "metadata": {},
   "outputs": [
    {
     "name": "stdout",
     "output_type": "stream",
     "text": [
      "SHAP Values Shape: (1, 50, 264)\n"
     ]
    }
   ],
   "source": [
    "shap_values = np.load(\"path/to/shap_values.npy\")\n",
    "print(f\"SHAP Values Shape: {shap_values.shape}\")"
   ]
  },
  {
   "cell_type": "code",
   "execution_count": 3,
   "id": "3a610ec3-db83-434a-9db1-67037a5ccbd8",
   "metadata": {},
   "outputs": [
    {
     "name": "stdout",
     "output_type": "stream",
     "text": [
      "Squeezed SHAP shape: (50, 264)\n"
     ]
    }
   ],
   "source": [
    "shap_values = shap_values.squeeze()\n",
    "print(f\"Squeezed SHAP shape: {shap_values.shape}\")"
   ]
  },
  {
   "cell_type": "code",
   "execution_count": 4,
   "id": "69e2bdeb-72a6-4126-8a23-4bbb10495e6e",
   "metadata": {},
   "outputs": [],
   "source": [
    "mean_shap_values = np.mean(np.abs(shap_values), axis=0)"
   ]
  },
  {
   "cell_type": "code",
   "execution_count": 5,
   "id": "81605d2e-9e7a-4ef2-9b1c-670026ab0e20",
   "metadata": {},
   "outputs": [],
   "source": [
    "shap_df = pd.DataFrame({\n",
    "    \"Feature\": [f\"Feature {i+1}\" for i in range(mean_shap_values.shape[0])],\n",
    "    \"Mean_SHAP_Value\": mean_shap_values\n",
    "})"
   ]
  },
  {
   "cell_type": "code",
   "execution_count": 6,
   "id": "5f12db3f-763c-44a2-8415-1d6fc2fa40bb",
   "metadata": {},
   "outputs": [],
   "source": [
    "f_length=24\n",
    "group_names = [\"features\", \"feature_ont\", \"feature_offt\", \"on_epigenetic_code\", \"off_epigenetic_code\"]\n",
    "group_ranges = [0, f_length, 2*f_length, 3*f_length, 7*f_length, len(shap_df)]"
   ]
  },
  {
   "cell_type": "code",
   "execution_count": 7,
   "id": "51c8022a-00aa-448f-ad76-27c187c1ed2c",
   "metadata": {},
   "outputs": [],
   "source": [
    "# Split the SHAP values into named groups\n",
    "feature_groups = {\n",
    "    name: shap_df.iloc[start:end]\n",
    "    for name, start, end in zip(group_names, group_ranges[:-1], group_ranges[1:])\n",
    "}"
   ]
  },
  {
   "cell_type": "code",
   "execution_count": 8,
   "id": "f3d30b83-7337-4b34-94a9-660da898a2fa",
   "metadata": {},
   "outputs": [],
   "source": [
    "features = feature_groups['features']\n",
    "feature_ont = feature_groups['feature_ont']\n",
    "feature_offt = feature_groups['feature_offt']\n",
    "on_epigenetic_code = feature_groups['on_epigenetic_code']\n",
    "off_epigenetic_code = feature_groups['off_epigenetic_code']"
   ]
  },
  {
   "cell_type": "code",
   "execution_count": 9,
   "id": "550e8a26-a3e9-4c87-bfad-1397a3b40df0",
   "metadata": {},
   "outputs": [],
   "source": [
    "# 24 features for each epigenetic factor\n",
    "factors = [\"CTCF\", \"DNase\", \"H3K4me3\", \"RRBS\"]\n",
    "features_per_factor = 24\n",
    "num_of_factors = 4"
   ]
  },
  {
   "cell_type": "code",
   "execution_count": 10,
   "id": "7fa1bc0a-1427-41ea-9bb0-8e49c1e1ceef",
   "metadata": {},
   "outputs": [],
   "source": [
    "on_target_factors = {\n",
    "    f\"On-Target - {factors[i]}\": on_epigenetic_code.iloc[i * features_per_factor:(i + 1) * features_per_factor]\n",
    "    for i in range(num_of_factors)\n",
    "}"
   ]
  },
  {
   "cell_type": "code",
   "execution_count": 11,
   "id": "436685cb-6fe9-4ac5-9c85-666ff3b1ba16",
   "metadata": {},
   "outputs": [],
   "source": [
    "off_target_factors = {\n",
    "    f\"Off-Target - {factors[i]}\": off_epigenetic_code.iloc[i * features_per_factor:(i + 1) * features_per_factor]\n",
    "    for i in range(num_of_factors)\n",
    "}"
   ]
  },
  {
   "cell_type": "code",
   "execution_count": 12,
   "id": "6f7af142-026b-4f10-bf8c-8549558ab896",
   "metadata": {},
   "outputs": [],
   "source": [
    "data = {**on_target_factors, **off_target_factors}\n",
    "\n",
    "# for factor_name, factor_data in data.items():\n",
    "#     print(f\"\\n{factor_name}:\\n\")\n",
    "#     print(factor_data.head())"
   ]
  },
  {
   "cell_type": "markdown",
   "id": "522e5920-4253-4a8e-887b-9153d771f3bc",
   "metadata": {},
   "source": [
    "## Step 2: Compute Mean SHAP Contribution per Group\n",
    "\n",
    "Calculate the average SHAP importance for each functional group (features, on/off-target, and epigenetic factors)."
   ]
  },
  {
   "cell_type": "code",
   "execution_count": 13,
   "id": "367476b8-6496-41fd-b41f-b67ea428d728",
   "metadata": {},
   "outputs": [],
   "source": [
    "factor_mean_contribution = {\n",
    "    factor: group['Mean_SHAP_Value'].mean()\n",
    "    for factor, group in data.items()\n",
    "}"
   ]
  },
  {
   "cell_type": "code",
   "execution_count": 14,
   "id": "9ee8928f-5bad-4ab3-94f7-673415be02a1",
   "metadata": {},
   "outputs": [],
   "source": [
    "features_mean_contribution = features['Mean_SHAP_Value'].mean()\n",
    "feature_ont_mean_contribution = feature_ont['Mean_SHAP_Value'].mean()\n",
    "feature_offt_mean_contribution = feature_offt['Mean_SHAP_Value'].mean()"
   ]
  },
  {
   "cell_type": "code",
   "execution_count": 15,
   "id": "e98dc98d-c063-4311-91f7-d96ecd93674f",
   "metadata": {},
   "outputs": [
    {
     "name": "stdout",
     "output_type": "stream",
     "text": [
      "Mean SHAP Contribution per Group:\n",
      "\n",
      "features              0.00236280\n",
      "feature_ont           0.00076624\n",
      "feature_offt          0.00082277\n",
      "On-Target - CTCF      0.00039243\n",
      "On-Target - DNase     0.00056323\n",
      "On-Target - H3K4me3   0.00044109\n",
      "On-Target - RRBS      0.00046129\n",
      "Off-Target - CTCF     0.00059545\n",
      "Off-Target - DNase    0.00068344\n",
      "Off-Target - H3K4me3  0.00072015\n",
      "Off-Target - RRBS     0.00073305\n"
     ]
    }
   ],
   "source": [
    "total_mean_contributions = {\n",
    "    \"features\": features_mean_contribution,\n",
    "    \"feature_ont\": feature_ont_mean_contribution,\n",
    "    \"feature_offt\": feature_offt_mean_contribution,\n",
    "    **factor_mean_contribution  \n",
    "}\n",
    "\n",
    "# pd.DataFrame.from_dict(total_mean_contributions, orient='index', columns=[\"Mean_SHAP_Contribution\"])\n",
    "print(\"Mean SHAP Contribution per Group:\\n\")\n",
    "for name, value in total_mean_contributions.items():\n",
    "    print(f\"{name:<20}  {value:.8f}\")"
   ]
  },
  {
   "cell_type": "code",
   "execution_count": 16,
   "id": "d470aa13-dcc0-49f6-82dc-db8be0bf7744",
   "metadata": {},
   "outputs": [],
   "source": [
    "mean_contributions_array = np.array(list(total_mean_contributions.values()))"
   ]
  },
  {
   "cell_type": "markdown",
   "id": "f31cd27d-74ae-4d00-8592-498da4866ba8",
   "metadata": {},
   "source": [
    "## 3. Normalize group contributions\n",
    "#### x_norm = (x - min) / (max - min)"
   ]
  },
  {
   "cell_type": "code",
   "execution_count": 17,
   "id": "4753e824-4e03-4dc0-a1b9-5ff0d843ade6",
   "metadata": {},
   "outputs": [
    {
     "name": "stdout",
     "output_type": "stream",
     "text": [
      "Normalized SHAP Contribution per Group:\n",
      "\n",
      "features              1.00000000\n",
      "feature_ont           0.18971717\n",
      "feature_offt          0.21840700\n",
      "On-Target - CTCF      0.00000000\n",
      "On-Target - DNase     0.08668313\n",
      "On-Target - H3K4me3   0.02469607\n",
      "On-Target - RRBS      0.03494938\n",
      "Off-Target - CTCF     0.10303925\n",
      "Off-Target - DNase    0.14769449\n",
      "Off-Target - H3K4me3  0.16632368\n",
      "Off-Target - RRBS     0.17286938\n"
     ]
    }
   ],
   "source": [
    "normalized_group_contributions = (mean_contributions_array - mean_contributions_array.min()) / (mean_contributions_array.max() - mean_contributions_array.min())\n",
    "# pd.Series(normalized_group_contributions, index=total_mean_contributions.keys())\n",
    "print(\"Normalized SHAP Contribution per Group:\\n\")\n",
    "for name, value in zip(total_mean_contributions.keys(), normalized_group_contributions):\n",
    "    print(f\"{name:<20}  {value:.8f}\")"
   ]
  },
  {
   "cell_type": "markdown",
   "id": "d452b2e3-4183-494f-b1a4-5bf9b75ddbe1",
   "metadata": {},
   "source": [
    "## Step 4: Reverse normalized values"
   ]
  },
  {
   "cell_type": "code",
   "execution_count": 18,
   "id": "2f2d7ac8-0ba8-4424-8757-1a75ce22f540",
   "metadata": {},
   "outputs": [
    {
     "name": "stdout",
     "output_type": "stream",
     "text": [
      "features             0.00000000\n",
      "feature_ont          0.81028283\n",
      "feature_offt         0.78159300\n",
      "On-Target - CTCF     1.00000000\n",
      "On-Target - DNase    0.91331687\n",
      "On-Target - H3K4me3  0.97530393\n",
      "On-Target - RRBS     0.96505062\n",
      "Off-Target - CTCF    0.89696075\n",
      "Off-Target - DNase   0.85230551\n",
      "Off-Target - H3K4me3 0.83367632\n",
      "Off-Target - RRBS    0.82713062\n"
     ]
    }
   ],
   "source": [
    "regularization_weights  = 1 - normalized_group_contributions\n",
    "for name, value in zip(total_mean_contributions.keys(), regularization_weights ):\n",
    "    print(f\"{name:<20} {value:.8f}\")"
   ]
  },
  {
   "cell_type": "markdown",
   "id": "9d956302-f298-4442-a62a-2c5bccd3611a",
   "metadata": {},
   "source": [
    "## Step 5: Scale reversed values to regularization strengths\n",
    "\n",
    "Convert reversed scores into regularization values within a target range (e.g., 0.001 to 0.01)."
   ]
  },
  {
   "cell_type": "code",
   "execution_count": 19,
   "id": "d2ab16a7-ffbb-4b03-a3c5-d4db911536d6",
   "metadata": {},
   "outputs": [],
   "source": [
    "min_k = 0.001  # Min penalty\n",
    "max_k = 0.01  # Max penalty"
   ]
  },
  {
   "cell_type": "code",
   "execution_count": 20,
   "id": "a917889c-044a-4c65-ae60-66a6439e92cd",
   "metadata": {},
   "outputs": [
    {
     "name": "stdout",
     "output_type": "stream",
     "text": [
      "Scaled Regularization Strengths per Group:\n",
      "\n",
      "features              0.00100000\n",
      "feature_ont           0.00829255\n",
      "feature_offt          0.00803434\n",
      "On-Target - CTCF      0.01000000\n",
      "On-Target - DNase     0.00921985\n",
      "On-Target - H3K4me3   0.00977774\n",
      "On-Target - RRBS      0.00968546\n",
      "Off-Target - CTCF     0.00907265\n",
      "Off-Target - DNase    0.00867075\n",
      "Off-Target - H3K4me3  0.00850309\n",
      "Off-Target - RRBS     0.00844418\n"
     ]
    }
   ],
   "source": [
    "scaled_k_values = min_k + (max_k - min_k) * regularization_weights\n",
    "print(\"Scaled Regularization Strengths per Group:\\n\")\n",
    "for name, value in zip(total_mean_contributions.keys(), scaled_k_values):\n",
    "    print(f\"{name:<20}  {value:.8f}\")"
   ]
  },
  {
   "cell_type": "code",
   "execution_count": null,
   "id": "950dfb66-c438-4a3b-b034-c18ca31ca0ad",
   "metadata": {},
   "outputs": [],
   "source": []
  }
 ],
 "metadata": {
  "kernelspec": {
   "display_name": "Python 3 (ipykernel)",
   "language": "python",
   "name": "python3"
  },
  "language_info": {
   "codemirror_mode": {
    "name": "ipython",
    "version": 3
   },
   "file_extension": ".py",
   "mimetype": "text/x-python",
   "name": "python",
   "nbconvert_exporter": "python",
   "pygments_lexer": "ipython3",
   "version": "3.13.2"
  }
 },
 "nbformat": 4,
 "nbformat_minor": 5
}

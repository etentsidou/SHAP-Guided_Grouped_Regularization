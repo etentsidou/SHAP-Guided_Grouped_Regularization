{
 "cells": [
  {
   "cell_type": "markdown",
   "id": "88e6ce8b-e72d-4dbc-a1ce-f194e120dfd4",
   "metadata": {},
   "source": [
    "# Computing Group-Wise L1 Regularization Strengths from SHAP Values \n",
    "# L1-Grouped-Epigenetics"
   ]
  },
  {
   "cell_type": "markdown",
   "id": "a687766f-5eef-4647-ab61-d880c276ca6a",
   "metadata": {},
   "source": [
    "Compute group-wise L1 regularization strengths for epigenetic feature groups based on SHAP values. The process includes SHAP extraction, contribution analysis, normalization and the final computation of the strengths using a 5-step procedure."
   ]
  },
  {
   "cell_type": "code",
   "execution_count": 1,
   "id": "fee4bf5b-d567-4408-8244-513e709c29fb",
   "metadata": {},
   "outputs": [],
   "source": [
    "import numpy as np\n",
    "import pandas as pd\n",
    "from scipy.stats import pearsonr"
   ]
  },
  {
   "cell_type": "markdown",
   "id": "82ccba16-19ac-4a05-a554-4e082a511b37",
   "metadata": {},
   "source": [
    "## Step 1: Extract SHAP Values and Split into Feature Groups\n",
    "\n",
    "Compute the absolute mean SHAP values and organize them into their respective groups (features, epigenetic codes, etc.)."
   ]
  },
  {
   "cell_type": "code",
   "execution_count": 2,
   "id": "9e635e25-447e-49fb-9982-327e3f681c7c",
   "metadata": {},
   "outputs": [
    {
     "name": "stdout",
     "output_type": "stream",
     "text": [
      "SHAP Values Shape: (1, 50, 264)\n"
     ]
    }
   ],
   "source": [
    "shap_values = np.load(\"path/to/shap_values.npy\")\n",
    "print(f\"SHAP Values Shape: {shap_values.shape}\")"
   ]
  },
  {
   "cell_type": "code",
   "execution_count": 3,
   "id": "fbe233cc-e9b6-448c-965d-a886dd1966cb",
   "metadata": {},
   "outputs": [
    {
     "name": "stdout",
     "output_type": "stream",
     "text": [
      "Squeezed SHAP shape: (50, 264)\n"
     ]
    }
   ],
   "source": [
    "shap_values = shap_values.squeeze()\n",
    "print(f\"Squeezed SHAP shape: {shap_values.shape}\")"
   ]
  },
  {
   "cell_type": "code",
   "execution_count": 4,
   "id": "7b4ce0c8-4fd3-4988-8dfd-3518213d2eb6",
   "metadata": {},
   "outputs": [],
   "source": [
    "mean_shap_values = np.mean(np.abs(shap_values), axis=0)"
   ]
  },
  {
   "cell_type": "code",
   "execution_count": 5,
   "id": "91b81f8e-e13a-49e5-ae3d-8c095d20c84f",
   "metadata": {},
   "outputs": [],
   "source": [
    "shap_df = pd.DataFrame({\n",
    "    \"Feature\": [f\"Feature {i+1}\" for i in range(mean_shap_values.shape[0])],\n",
    "    \"Mean_SHAP_Value\": mean_shap_values\n",
    "})\n",
    "# shap_df"
   ]
  },
  {
   "cell_type": "code",
   "execution_count": 6,
   "id": "4160ba1d-9159-46e9-9ea4-d55546ba578b",
   "metadata": {},
   "outputs": [],
   "source": [
    "f_length=24\n",
    "group_names = [\"features\", \"feature_ont\", \"feature_offt\", \"on_epigenetic_code\", \"off_epigenetic_code\"]\n",
    "group_ranges = [0, f_length, 2*f_length, 3*f_length, 7*f_length, len(shap_df)]"
   ]
  },
  {
   "cell_type": "code",
   "execution_count": 7,
   "id": "5ac9437d-7e1e-4725-847c-d0ef65eef006",
   "metadata": {},
   "outputs": [],
   "source": [
    "# Split the SHAP values into named groups\n",
    "feature_groups = {\n",
    "    name: shap_df.iloc[start:end]\n",
    "    for name, start, end in zip(group_names, group_ranges[:-1], group_ranges[1:])\n",
    "}"
   ]
  },
  {
   "cell_type": "code",
   "execution_count": 8,
   "id": "67fa0f56-5f3a-4cb4-9a13-674cfc6ea22c",
   "metadata": {},
   "outputs": [],
   "source": [
    "features = feature_groups['features']\n",
    "feature_ont = feature_groups['feature_ont']\n",
    "feature_offt = feature_groups['feature_offt']\n",
    "on_epigenetic_code = feature_groups['on_epigenetic_code']\n",
    "off_epigenetic_code = feature_groups['off_epigenetic_code']"
   ]
  },
  {
   "cell_type": "code",
   "execution_count": 9,
   "id": "2a521eb0-95ad-412c-a8d3-e4ee60346eb9",
   "metadata": {},
   "outputs": [],
   "source": [
    "# 24 features for each epigenetic factor\n",
    "factors = [\"CTCF\", \"DNase\", \"H3K4me3\", \"RRBS\"]\n",
    "features_per_factor = 24\n",
    "num_of_factors = 4"
   ]
  },
  {
   "cell_type": "code",
   "execution_count": 10,
   "id": "c77cac1a-50d6-4bee-a227-e707de20a071",
   "metadata": {},
   "outputs": [],
   "source": [
    "on_target_factors = {\n",
    "    f\"On-Target - {factors[i]}\": on_epigenetic_code.iloc[i * features_per_factor:(i + 1) * features_per_factor]\n",
    "    for i in range(num_of_factors)\n",
    "}"
   ]
  },
  {
   "cell_type": "code",
   "execution_count": 11,
   "id": "d4428eb1-ec0d-4a01-b984-a3a8578a4547",
   "metadata": {},
   "outputs": [],
   "source": [
    "off_target_factors = {\n",
    "    f\"Off-Target - {factors[i]}\": off_epigenetic_code.iloc[i * features_per_factor:(i + 1) * features_per_factor]\n",
    "    for i in range(num_of_factors)\n",
    "}"
   ]
  },
  {
   "cell_type": "code",
   "execution_count": 12,
   "id": "acda2315-c5bb-483c-b66d-2758226569af",
   "metadata": {},
   "outputs": [],
   "source": [
    "data = {**on_target_factors, **off_target_factors}\n",
    "\n",
    "# for factor_name, factor_data in data.items():\n",
    "#     print(f\"\\n{factor_name}:\\n\")\n",
    "#     print(factor_data.head())"
   ]
  },
  {
   "cell_type": "markdown",
   "id": "566d0048-5a79-49a2-ab8d-b3e6b6039cd6",
   "metadata": {},
   "source": [
    "## Step 2: Compute the Absolute Total Mean Contribution and Correlation\n",
    "\n",
    "The absolute total mean contribution and the correlation between the target and off-target features for each of the epigenetic factors (CTCF, DNase, etc.) was calculated based on the SHAP values."
   ]
  },
  {
   "cell_type": "code",
   "execution_count": 13,
   "id": "ca00caa4-08a4-46c8-93f8-9d686b1e4601",
   "metadata": {},
   "outputs": [],
   "source": [
    "factor_mean_contribution = {\n",
    "    factor: group['Mean_SHAP_Value'].mean()\n",
    "    for factor, group in data.items()\n",
    "}"
   ]
  },
  {
   "cell_type": "code",
   "execution_count": 14,
   "id": "006568b1-6d9c-406a-ac80-e617102891be",
   "metadata": {},
   "outputs": [],
   "source": [
    "on_target_contributions = {key: contribution for key, contribution in factor_mean_contribution.items() if \"On-Target\" in key}\n",
    "off_target_contributions = {key: contribution for key, contribution in factor_mean_contribution.items() if \"Off-Target\" in key}"
   ]
  },
  {
   "cell_type": "code",
   "execution_count": 15,
   "id": "c9e24087-ec37-4cf6-8bbc-398be4c10164",
   "metadata": {},
   "outputs": [
    {
     "name": "stdout",
     "output_type": "stream",
     "text": [
      "Mean Contribution of On-Target Factors:\n",
      "On-Target - CTCF     0.00039243\n",
      "On-Target - DNase    0.00056323\n",
      "On-Target - H3K4me3  0.00044109\n",
      "On-Target - RRBS     0.00046129\n"
     ]
    }
   ],
   "source": [
    "print(\"Mean Contribution of On-Target Factors:\")\n",
    "for name, value in on_target_contributions.items():\n",
    "    print(f\"{name:<20} {value:.8f}\")"
   ]
  },
  {
   "cell_type": "code",
   "execution_count": 16,
   "id": "7adee9ca-459c-4c8d-b8b5-d6f966b4486d",
   "metadata": {},
   "outputs": [
    {
     "name": "stdout",
     "output_type": "stream",
     "text": [
      "Mean Contribution of Off-Target Factors:\n",
      "Off-Target - CTCF    0.00059545\n",
      "Off-Target - DNase   0.00068344\n",
      "Off-Target - H3K4me3 0.00072015\n",
      "Off-Target - RRBS    0.00073305\n"
     ]
    }
   ],
   "source": [
    "print(\"Mean Contribution of Off-Target Factors:\")\n",
    "for name, value in off_target_contributions.items():\n",
    "    print(f\"{name:<20} {value:.8f}\")"
   ]
  },
  {
   "cell_type": "markdown",
   "id": "c8ae81fd-2656-4536-aeb0-21d59b5bf38f",
   "metadata": {},
   "source": [
    "### Total Mean Contribution (On-Target and Off-Target) for Each Factor"
   ]
  },
  {
   "cell_type": "code",
   "execution_count": 17,
   "id": "821829a8-823d-49c9-9d08-d4565d6f7b24",
   "metadata": {},
   "outputs": [
    {
     "name": "stdout",
     "output_type": "stream",
     "text": [
      "Mean Contribution of Factors:\n",
      "CTCF       0.00049394\n",
      "DNase      0.00062333\n",
      "H3K4me3    0.00058062\n",
      "RRBS       0.00059717\n"
     ]
    }
   ],
   "source": [
    "total_mean_contributions = {\n",
    "    factor: (on_target_contributions[f\"On-Target - {factor}\"] + off_target_contributions[f\"Off-Target - {factor}\"]) / 2\n",
    "    for factor in factors\n",
    "}\n",
    "\n",
    "print(\"Mean Contribution of Factors:\")\n",
    "for name, value in total_mean_contributions.items():\n",
    "    print(f\"{name:<10} {value:.8f}\")"
   ]
  },
  {
   "cell_type": "markdown",
   "id": "ec606586-df5e-4a25-9b45-59ebc210e8d2",
   "metadata": {},
   "source": [
    "### Pearson Correlation Between On-Target and Off-Target for Each Factor"
   ]
  },
  {
   "cell_type": "code",
   "execution_count": 18,
   "id": "7f7bab5c-0c3b-4e20-846c-b3de232a95e4",
   "metadata": {},
   "outputs": [],
   "source": [
    "correlations = {}\n",
    "\n",
    "for i, factor in enumerate(factors):\n",
    "    on_target_values = on_target_factors[f\"On-Target - {factor}\"]['Mean_SHAP_Value']\n",
    "    off_target_values = off_target_factors[f\"Off-Target - {factor}\"]['Mean_SHAP_Value']\n",
    "\n",
    "    corr, _ = pearsonr(on_target_values, off_target_values)\n",
    "    correlations[factor] = corr"
   ]
  },
  {
   "cell_type": "code",
   "execution_count": 19,
   "id": "1b9bb37f-eac5-4dcb-8334-a8dbbcfb1729",
   "metadata": {},
   "outputs": [
    {
     "name": "stdout",
     "output_type": "stream",
     "text": [
      "Correlation between Target and Off-Target for each epigenetic factor:\n",
      "CTCF       0.50313665\n",
      "DNase      0.22661480\n",
      "H3K4me3    0.43399773\n",
      "RRBS       0.29125054\n"
     ]
    }
   ],
   "source": [
    "print(\"Correlation between Target and Off-Target for each epigenetic factor:\")\n",
    "for name, value in correlations.items():\n",
    "    print(f\"{name:<10} {value:.8f}\")"
   ]
  },
  {
   "cell_type": "markdown",
   "id": "0fc44702-0a37-43b1-87f8-17dedc1367ad",
   "metadata": {},
   "source": [
    "## Step 3: Normalize the Total Mean Contribution and the Correlation Values\n",
    "#### x_norm = (x - min) / (max - min)"
   ]
  },
  {
   "cell_type": "code",
   "execution_count": 20,
   "id": "6866f3c4-31c4-4702-a0ed-82d50a0c291c",
   "metadata": {},
   "outputs": [
    {
     "name": "stdout",
     "output_type": "stream",
     "text": [
      "Normalized Mean SHAP Contributions:\n",
      "CTCF       0.00000000\n",
      "DNase      1.00000000\n",
      "H3K4me3    0.66987653\n",
      "RRBS       0.79778294\n"
     ]
    }
   ],
   "source": [
    "normalized_mean_contributions = {}\n",
    "min_contribution = min(total_mean_contributions.values())\n",
    "max_contribution = max(total_mean_contributions.values())\n",
    "\n",
    "for factor, value in total_mean_contributions.items():\n",
    "    normalized_mean_contributions[factor] = (value - min_contribution) / (max_contribution - min_contribution)\n",
    "    \n",
    "print(\"Normalized Mean SHAP Contributions:\")\n",
    "for name, value in normalized_mean_contributions.items():\n",
    "    print(f\"{name:<10} {value:.8f}\")"
   ]
  },
  {
   "cell_type": "code",
   "execution_count": 21,
   "id": "9ff28cbb-7788-4383-bee0-7b97b14efec4",
   "metadata": {},
   "outputs": [
    {
     "name": "stdout",
     "output_type": "stream",
     "text": [
      "\n",
      "Normalized Correlations:\n",
      "CTCF       1.00000000\n",
      "DNase      0.00000000\n",
      "H3K4me3    0.74996944\n",
      "RRBS       0.23374551\n"
     ]
    }
   ],
   "source": [
    "normalized_correlations = {}\n",
    "min_corr = min(correlations.values())\n",
    "max_corr = max(correlations.values())\n",
    "\n",
    "for factor, value in correlations.items():\n",
    "    normalized_correlations[factor] = (value - min_corr) / (max_corr - min_corr)\n",
    "\n",
    "print(\"\\nNormalized Correlations:\")\n",
    "for name, value in normalized_correlations.items():\n",
    "    print(f\"{name:<10} {value:.8f}\")"
   ]
  },
  {
   "cell_type": "markdown",
   "id": "bd2f0bb1-ba69-46a4-b198-68877914e2b2",
   "metadata": {},
   "source": [
    "## Step 4: Compute the Weight of Each Factor\n",
    "#### w(i) = α · contribution(i) + (1 - α) · correlation(i)"
   ]
  },
  {
   "cell_type": "code",
   "execution_count": 22,
   "id": "2c4a3fc5-10a5-4f74-be27-4af9fab12d25",
   "metadata": {},
   "outputs": [
    {
     "name": "stdout",
     "output_type": "stream",
     "text": [
      "Computed Weights for Each Epigenetic Factor:\n",
      "CTCF       0.25000000\n",
      "DNase      0.75000000\n",
      "H3K4me3    0.68989975\n",
      "RRBS       0.65677358\n"
     ]
    }
   ],
   "source": [
    "alpha = 0.75\n",
    "weights = {}\n",
    "\n",
    "for factor in normalized_mean_contributions.keys():\n",
    "    weights[factor] = (\n",
    "        alpha * normalized_mean_contributions[factor] + (1 - alpha) * normalized_correlations[factor]\n",
    "    )\n",
    "    \n",
    "print(\"Computed Weights for Each Epigenetic Factor:\")\n",
    "for name, value in weights.items():\n",
    "    print(f\"{name:<10} {value:.8f}\")"
   ]
  },
  {
   "cell_type": "markdown",
   "id": "1f22f60a-8be1-450c-b60b-8b052b552588",
   "metadata": {},
   "source": [
    "## Step 5: Compute the Regularization Factors’ Strengths\n",
    "#### λ(i) = k / (w(i) + ε), where ε = 1e-6"
   ]
  },
  {
   "cell_type": "code",
   "execution_count": 23,
   "id": "02e3eb45-31de-4d7a-8499-e8eee517aaaa",
   "metadata": {},
   "outputs": [
    {
     "name": "stdout",
     "output_type": "stream",
     "text": [
      "Regularization Strengths per Factor:\n",
      "CTCF       0.03999984\n",
      "DNase      0.01333332\n",
      "H3K4me3    0.01449484\n",
      "RRBS       0.01522592\n"
     ]
    }
   ],
   "source": [
    "k=0.01\n",
    "epsilon = 1e-6\n",
    "lambda_g = {}\n",
    "\n",
    "for factor, weights in weights.items():\n",
    "    lambda_g[factor] = round(k/(weights + epsilon),8)\n",
    "    \n",
    "print(\"Regularization Strengths per Factor:\")\n",
    "for name, value in lambda_g.items():\n",
    "    print(f\"{name:<10} {value:.8f}\")"
   ]
  },
  {
   "cell_type": "code",
   "execution_count": null,
   "id": "5f25597d-307a-4dbb-90f4-102bd6e7a4c1",
   "metadata": {},
   "outputs": [],
   "source": []
  }
 ],
 "metadata": {
  "kernelspec": {
   "display_name": "Python 3 (ipykernel)",
   "language": "python",
   "name": "python3"
  },
  "language_info": {
   "codemirror_mode": {
    "name": "ipython",
    "version": 3
   },
   "file_extension": ".py",
   "mimetype": "text/x-python",
   "name": "python",
   "nbconvert_exporter": "python",
   "pygments_lexer": "ipython3",
   "version": "3.13.2"
  }
 },
 "nbformat": 4,
 "nbformat_minor": 5
}
